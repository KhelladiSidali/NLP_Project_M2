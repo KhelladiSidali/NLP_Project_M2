{
 "cells": [
  {
   "cell_type": "code",
   "execution_count": 1,
   "metadata": {},
   "outputs": [
    {
     "name": "stdout",
     "output_type": "stream",
     "text": [
      "Mot: The\tPartie du discours: DET\tMorphème: Definite=Def|PronType=Art\n",
      "Mot: quick\tPartie du discours: ADJ\tMorphème: Degree=Pos\n",
      "Mot: brown\tPartie du discours: ADJ\tMorphème: Degree=Pos\n",
      "Mot: fox\tPartie du discours: NOUN\tMorphème: Number=Sing\n",
      "Mot: jumps\tPartie du discours: VERB\tMorphème: Number=Sing|Person=3|Tense=Pres|VerbForm=Fin\n",
      "Mot: over\tPartie du discours: ADP\tMorphème: \n",
      "Mot: the\tPartie du discours: DET\tMorphème: Definite=Def|PronType=Art\n",
      "Mot: lazy\tPartie du discours: ADJ\tMorphème: Degree=Pos\n",
      "Mot: dog\tPartie du discours: NOUN\tMorphème: Number=Sing\n",
      "Mot: .\tPartie du discours: PUNCT\tMorphème: PunctType=Peri\n"
     ]
    }
   ],
   "source": [
    "# 🎯 ANALYSE MORPHOLOGIQUE\n",
    "# ==========================\n",
    "# Brève description de la section :\n",
    "# - 📌 Utilisation de spaCy pour identifier les parties du discours (POS tagging).\n",
    "# - 🔄 Extraction des morphèmes des phrases en analysant la structure des mots.\n",
    "# - 🚀 Objectif : Afficher les morphèmes et les étiquettes grammaticales pour chaque mot.\n",
    "# ==========================\n",
    "\n",
    "import spacy\n",
    "\n",
    "# Charger le modèle linguistique de spaCy\n",
    "nlp = spacy.load(\"en_core_web_sm\")\n",
    "\n",
    "# Exemple de phrase à analyser\n",
    "sentence = \"The quick brown fox jumps over the lazy dog.\"\n",
    "\n",
    "# Traitement de la phrase avec spaCy\n",
    "doc = nlp(sentence)\n",
    "\n",
    "# Affichage des parties du discours (POS tagging) et des morphèmes\n",
    "for token in doc:\n",
    "    print(f\"Mot: {token.text}\\tPartie du discours: {token.pos_}\\tMorphème: {token.morph}\")\n"
   ]
  },
  {
   "cell_type": "code",
   "execution_count": null,
   "metadata": {},
   "outputs": [],
   "source": []
  }
 ],
 "metadata": {
  "kernelspec": {
   "display_name": "introduction-TAL",
   "language": "python",
   "name": "python3"
  },
  "language_info": {
   "codemirror_mode": {
    "name": "ipython",
    "version": 3
   },
   "file_extension": ".py",
   "mimetype": "text/x-python",
   "name": "python",
   "nbconvert_exporter": "python",
   "pygments_lexer": "ipython3",
   "version": "3.11.8"
  }
 },
 "nbformat": 4,
 "nbformat_minor": 2
}
