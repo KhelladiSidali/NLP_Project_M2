{
 "cells": [
  {
   "cell_type": "code",
   "execution_count": null,
   "metadata": {
    "vscode": {
     "languageId": "plaintext"
    }
   },
   "outputs": [],
   "source": [
    "import tkinter as tk\n",
    "from tkinter import messagebox\n",
    "\n",
    "# Créer la fenêtre principale\n",
    "root = tk.Tk()\n",
    "root.title(\"Analyseur NLP\")\n",
    "root.geometry(\"500x300\")\n",
    "\n",
    "# Ajouter un label\n",
    "label = tk.Label(root, text=\"Entrez une phrase :\", font=(\"Arial\", 12))\n",
    "label.pack(pady=10)\n",
    "\n",
    "# Ajouter une zone de texte\n",
    "entry = tk.Entry(root, width=50)\n",
    "entry.pack(pady=5)\n",
    "\n",
    "# Ajouter un bouton pour lancer l'analyse\n",
    "def analyser():\n",
    "    phrase = entry.get()\n",
    "    if not phrase:\n",
    "        messagebox.showwarning(\"Attention\", \"Veuillez entrer une phrase !\")\n",
    "    else:\n",
    "        messagebox.showinfo(\"Résultat\", f\"Analyse en cours pour : {phrase}\")\n",
    "\n",
    "button = tk.Button(root, text=\"Analyser\", command=analyser)\n",
    "button.pack(pady=10)\n",
    "\n",
    "# Lancer l'interface\n",
    "root.mainloop()\n"
   ]
  }
 ],
 "metadata": {
  "language_info": {
   "name": "python"
  }
 },
 "nbformat": 4,
 "nbformat_minor": 2
}
